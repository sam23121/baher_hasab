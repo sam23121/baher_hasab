{
 "cells": [
  {
   "cell_type": "code",
   "execution_count": 2,
   "metadata": {},
   "outputs": [],
   "source": [
    "# from baher_hasab import BaherHasab\n",
    "from helper import gregorian_to_ethiopian, ethiopian_to_gregorian"
   ]
  },
  {
   "cell_type": "code",
   "execution_count": 6,
   "metadata": {},
   "outputs": [
    {
     "data": {
      "text/plain": [
       "2"
      ]
     },
     "execution_count": 6,
     "metadata": {},
     "output_type": "execute_result"
    }
   ],
   "source": [
    "5 % 2 + 1"
   ]
  },
  {
   "cell_type": "code",
   "execution_count": 4,
   "metadata": {},
   "outputs": [
    {
     "name": "stdout",
     "output_type": "stream",
     "text": [
      "The Ethiopian date for 2021-09-10 is 2013-13-04\n"
     ]
    }
   ],
   "source": [
    "gregorian_year = 2021\n",
    "gregorian_month = 9\n",
    "gregorian_day = 10\n",
    "ethiopian_year, ethiopian_month, ethiopian_day = gregorian_to_ethiopian(gregorian_year, gregorian_month, gregorian_day)\n",
    "print(f\"The Ethiopian date for {gregorian_year}-{gregorian_month:02d}-{gregorian_day:02d} is {ethiopian_year}-{ethiopian_month:02d}-{ethiopian_day:02d}\")"
   ]
  },
  {
   "cell_type": "code",
   "execution_count": 6,
   "metadata": {},
   "outputs": [
    {
     "name": "stdout",
     "output_type": "stream",
     "text": [
      "The Gregorian date for 2016-11-24 is 2024-08-00\n"
     ]
    }
   ],
   "source": [
    "ethiopian_year = 2015\n",
    "ethiopian_month = 13\n",
    "ethiopian_day = 4\n",
    "\n",
    "ethiopian_year = 2016\n",
    "ethiopian_month = 11\n",
    "ethiopian_day = 24\n",
    "\n",
    "gregorian_year, gregorian_month, gregorian_day = ethiopian_to_gregorian(ethiopian_year, ethiopian_month, ethiopian_day)\n",
    "print(f\"The Gregorian date for {ethiopian_year}-{ethiopian_month:02d}-{ethiopian_day:02d} is {gregorian_year}-{gregorian_month:02d}-{gregorian_day:02d}\")"
   ]
  },
  {
   "cell_type": "code",
   "execution_count": 3,
   "metadata": {},
   "outputs": [],
   "source": [
    "bh = BaherHasab(1964)"
   ]
  },
  {
   "cell_type": "code",
   "execution_count": 4,
   "metadata": {},
   "outputs": [
    {
     "name": "stdout",
     "output_type": "stream",
     "text": [
      "Step 2 7464\n",
      "Metke 15\n",
      "first day sunday\n",
      "day_of_metke sunday\n",
      "day_of_nenewa 7\n",
      "nenewa_day 22\n",
      "Tir 22\n",
      "Step 5 15\n",
      "Step 6 0\n",
      "Step 7 1866\n",
      "Step 8 2725861\n",
      "tewsak 119\n",
      "Step 10 2725876\n",
      "Step 11 7\n",
      "Step 12 128\n",
      "Step 13 2726123\n",
      "Step 14 9\n",
      "Step 15 21\n",
      "Step 16 monday\n"
     ]
    },
    {
     "data": {
      "text/plain": [
       "'Ginbot 21'"
      ]
     },
     "execution_count": 4,
     "metadata": {},
     "output_type": "execute_result"
    }
   ],
   "source": [
    "bh.new_get_event_date('hawaryat')"
   ]
  },
  {
   "cell_type": "code",
   "execution_count": 4,
   "metadata": {},
   "outputs": [
    {
     "data": {
      "text/plain": [
       "1097"
      ]
     },
     "execution_count": 4,
     "metadata": {},
     "output_type": "execute_result"
    }
   ],
   "source": [
    "2726227 - 2725130"
   ]
  },
  {
   "cell_type": "code",
   "execution_count": 4,
   "metadata": {},
   "outputs": [
    {
     "name": "stdout",
     "output_type": "stream",
     "text": [
      "We are in the 15th Abiy kemer \n",
      " \n",
      "              have gone through 45 years \n",
      "\n",
      "              and have 487 years left\n"
     ]
    },
    {
     "data": {
      "text/plain": [
       "(15, 45, 487)"
      ]
     },
     "execution_count": 4,
     "metadata": {},
     "output_type": "execute_result"
    }
   ],
   "source": [
    "bh.get_awde_kemer()"
   ]
  },
  {
   "cell_type": "code",
   "execution_count": 5,
   "metadata": {},
   "outputs": [
    {
     "name": "stdout",
     "output_type": "stream",
     "text": [
      "We are in the 99th Awde Mahtot \n",
      " \n",
      "              have gone through 45 years \n",
      "\n",
      "              and have 31 years left\n"
     ]
    },
    {
     "data": {
      "text/plain": [
       "(99, 45, 31)"
      ]
     },
     "execution_count": 5,
     "metadata": {},
     "output_type": "execute_result"
    }
   ],
   "source": [
    "bh.get_awde_mahtot()"
   ]
  },
  {
   "cell_type": "code",
   "execution_count": 6,
   "metadata": {},
   "outputs": [
    {
     "name": "stdout",
     "output_type": "stream",
     "text": [
      "We are in the 268th Awde Mahtot \n",
      " \n",
      "              have gone through 17 years \n",
      "\n",
      "              and have 11 years left\n"
     ]
    },
    {
     "data": {
      "text/plain": [
       "(268, 17, 11)"
      ]
     },
     "execution_count": 6,
     "metadata": {},
     "output_type": "execute_result"
    }
   ],
   "source": [
    "bh.get_awde_tsehay()"
   ]
  },
  {
   "cell_type": "code",
   "execution_count": 7,
   "metadata": {},
   "outputs": [
    {
     "name": "stdout",
     "output_type": "stream",
     "text": [
      "We are in the 15th Abiy kemer \n",
      " \n",
      "              have gone through 45 years \n",
      "\n",
      "              and have 487 years left\n"
     ]
    },
    {
     "data": {
      "text/plain": [
       "(15, 45, 487)"
      ]
     },
     "execution_count": 7,
     "metadata": {},
     "output_type": "execute_result"
    }
   ],
   "source": [
    "bh.get_awde_kemer()"
   ]
  },
  {
   "cell_type": "code",
   "execution_count": 8,
   "metadata": {},
   "outputs": [
    {
     "data": {
      "text/plain": [
       "7493"
      ]
     },
     "execution_count": 8,
     "metadata": {},
     "output_type": "execute_result"
    }
   ],
   "source": [
    "bh.get_total_years()"
   ]
  },
  {
   "cell_type": "code",
   "execution_count": 9,
   "metadata": {},
   "outputs": [
    {
     "data": {
      "text/plain": [
       "6"
      ]
     },
     "execution_count": 9,
     "metadata": {},
     "output_type": "execute_result"
    }
   ],
   "source": [
    "bh.get_wember()"
   ]
  },
  {
   "cell_type": "code",
   "execution_count": 10,
   "metadata": {},
   "outputs": [
    {
     "data": {
      "text/plain": [
       "6"
      ]
     },
     "execution_count": 10,
     "metadata": {},
     "output_type": "execute_result"
    }
   ],
   "source": [
    "bh.get_abketa()"
   ]
  },
  {
   "cell_type": "code",
   "execution_count": 11,
   "metadata": {},
   "outputs": [
    {
     "data": {
      "text/plain": [
       "24"
      ]
     },
     "execution_count": 11,
     "metadata": {},
     "output_type": "execute_result"
    }
   ],
   "source": [
    "bh.get_metke()"
   ]
  },
  {
   "cell_type": "code",
   "execution_count": 12,
   "metadata": {},
   "outputs": [
    {
     "data": {
      "text/plain": [
       "'monday'"
      ]
     },
     "execution_count": 12,
     "metadata": {},
     "output_type": "execute_result"
    }
   ],
   "source": [
    "bh.get_first_day_of_year()"
   ]
  },
  {
   "cell_type": "code",
   "execution_count": 13,
   "metadata": {},
   "outputs": [
    {
     "name": "stdout",
     "output_type": "stream",
     "text": [
      "Tir 28\n"
     ]
    },
    {
     "data": {
      "text/plain": [
       "(28, 0)"
      ]
     },
     "execution_count": 13,
     "metadata": {},
     "output_type": "execute_result"
    }
   ],
   "source": [
    "bh.get_nenewa()"
   ]
  },
  {
   "cell_type": "code",
   "execution_count": 14,
   "metadata": {},
   "outputs": [
    {
     "name": "stdout",
     "output_type": "stream",
     "text": [
      "Tir 28\n"
     ]
    },
    {
     "data": {
      "text/plain": [
       "'Yekatit 12'"
      ]
     },
     "execution_count": 14,
     "metadata": {},
     "output_type": "execute_result"
    }
   ],
   "source": [
    "bh.get_hudade()"
   ]
  },
  {
   "cell_type": "code",
   "execution_count": 15,
   "metadata": {},
   "outputs": [
    {
     "name": "stdout",
     "output_type": "stream",
     "text": [
      "Tir 28\n"
     ]
    },
    {
     "data": {
      "text/plain": [
       "'Megabit 9'"
      ]
     },
     "execution_count": 15,
     "metadata": {},
     "output_type": "execute_result"
    }
   ],
   "source": [
    "bh.get_debrezeit()"
   ]
  },
  {
   "cell_type": "code",
   "execution_count": 16,
   "metadata": {},
   "outputs": [
    {
     "name": "stdout",
     "output_type": "stream",
     "text": [
      "Tir 28\n"
     ]
    },
    {
     "data": {
      "text/plain": [
       "'Megabit 30'"
      ]
     },
     "execution_count": 16,
     "metadata": {},
     "output_type": "execute_result"
    }
   ],
   "source": [
    "bh.get_hosana()"
   ]
  },
  {
   "cell_type": "code",
   "execution_count": 17,
   "metadata": {},
   "outputs": [
    {
     "name": "stdout",
     "output_type": "stream",
     "text": [
      "Tir 28\n"
     ]
    },
    {
     "data": {
      "text/plain": [
       "'Miyazia 5'"
      ]
     },
     "execution_count": 17,
     "metadata": {},
     "output_type": "execute_result"
    }
   ],
   "source": [
    "bh.get_seklet()"
   ]
  },
  {
   "cell_type": "code",
   "execution_count": 18,
   "metadata": {},
   "outputs": [
    {
     "name": "stdout",
     "output_type": "stream",
     "text": [
      "Tir 28\n"
     ]
    },
    {
     "data": {
      "text/plain": [
       "'Miyazia 7'"
      ]
     },
     "execution_count": 18,
     "metadata": {},
     "output_type": "execute_result"
    }
   ],
   "source": [
    "bh.get_tensae()"
   ]
  },
  {
   "cell_type": "code",
   "execution_count": 138,
   "metadata": {},
   "outputs": [
    {
     "name": "stdout",
     "output_type": "stream",
     "text": [
      "Tir 19\n",
      "rekeb_kanat\n",
      "93\n",
      "19\n",
      "112\n"
     ]
    },
    {
     "data": {
      "text/plain": [
       "'Miyazia 22'"
      ]
     },
     "execution_count": 138,
     "metadata": {},
     "output_type": "execute_result"
    }
   ],
   "source": [
    "bh.get_rekeb_kanat()"
   ]
  },
  {
   "cell_type": "code",
   "execution_count": 139,
   "metadata": {},
   "outputs": [
    {
     "name": "stdout",
     "output_type": "stream",
     "text": [
      "Tir 19\n",
      "erget\n",
      "108\n",
      "19\n",
      "127\n"
     ]
    },
    {
     "data": {
      "text/plain": [
       "'Genbot 7'"
      ]
     },
     "execution_count": 139,
     "metadata": {},
     "output_type": "execute_result"
    }
   ],
   "source": [
    "bh.get_erget()"
   ]
  },
  {
   "cell_type": "code",
   "execution_count": 140,
   "metadata": {},
   "outputs": [
    {
     "name": "stdout",
     "output_type": "stream",
     "text": [
      "Tir 19\n",
      "piraklitos\n",
      "118\n",
      "19\n",
      "137\n"
     ]
    },
    {
     "data": {
      "text/plain": [
       "'Genbot 17'"
      ]
     },
     "execution_count": 140,
     "metadata": {},
     "output_type": "execute_result"
    }
   ],
   "source": [
    "bh.get_piraklitos()"
   ]
  },
  {
   "cell_type": "code",
   "execution_count": 141,
   "metadata": {},
   "outputs": [
    {
     "name": "stdout",
     "output_type": "stream",
     "text": [
      "Tir 19\n",
      "hawaryat\n",
      "119\n",
      "19\n",
      "138\n"
     ]
    },
    {
     "data": {
      "text/plain": [
       "'Genbot 18'"
      ]
     },
     "execution_count": 141,
     "metadata": {},
     "output_type": "execute_result"
    }
   ],
   "source": [
    "bh.get_hawaryat()"
   ]
  },
  {
   "cell_type": "code",
   "execution_count": 142,
   "metadata": {},
   "outputs": [
    {
     "name": "stdout",
     "output_type": "stream",
     "text": [
      "Tir 19\n",
      "dehenet\n",
      "121\n",
      "19\n",
      "140\n"
     ]
    },
    {
     "data": {
      "text/plain": [
       "'Genbot 20'"
      ]
     },
     "execution_count": 142,
     "metadata": {},
     "output_type": "execute_result"
    }
   ],
   "source": [
    "bh.get_dehenet()"
   ]
  },
  {
   "cell_type": "code",
   "execution_count": null,
   "metadata": {},
   "outputs": [],
   "source": []
  },
  {
   "cell_type": "code",
   "execution_count": null,
   "metadata": {},
   "outputs": [],
   "source": []
  }
 ],
 "metadata": {
  "kernelspec": {
   "display_name": ".venv",
   "language": "python",
   "name": "python3"
  },
  "language_info": {
   "codemirror_mode": {
    "name": "ipython",
    "version": 3
   },
   "file_extension": ".py",
   "mimetype": "text/x-python",
   "name": "python",
   "nbconvert_exporter": "python",
   "pygments_lexer": "ipython3",
   "version": "3.10.14"
  }
 },
 "nbformat": 4,
 "nbformat_minor": 2
}
