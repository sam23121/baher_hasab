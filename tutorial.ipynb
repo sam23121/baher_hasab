{
 "cells": [
  {
   "cell_type": "code",
   "execution_count": 1,
   "metadata": {},
   "outputs": [
    {
     "name": "stdout",
     "output_type": "stream",
     "text": [
      "['/home/sam/Documents/projects/practice/baher_hasab/baher_hasab/src', '/home/sam/anaconda3/lib/python37.zip', '/home/sam/anaconda3/lib/python3.7', '/home/sam/anaconda3/lib/python3.7/lib-dynload', '', '/home/sam/Documents/projects/practice/general/lib/python3.7/site-packages', '/home/sam/Documents/projects/practice/general/lib/python3.7/site-packages/IPython/extensions', '/home/sam/.ipython', '/home/sam/Documents/projects/practice/baher_hasab/baher_hasab']\n"
     ]
    }
   ],
   "source": [
    "import sys\n",
    "import os\n",
    "sys.path.append(os.path.abspath(os.path.join('..')))\n",
    "print(sys.path)\n",
    "\n",
    "# Now you can import your module\n",
    "from baher_hasab.baher_hasab import BaherHasab\n"
   ]
  },
  {
   "cell_type": "code",
   "execution_count": 2,
   "metadata": {},
   "outputs": [],
   "source": [
    "bh = BaherHasab(2017)"
   ]
  },
  {
   "cell_type": "code",
   "execution_count": 3,
   "metadata": {},
   "outputs": [
    {
     "name": "stdout",
     "output_type": "stream",
     "text": [
      "BaherHasab Summary:\n",
      "Total Years: 7517\n",
      "Wember: 11\n",
      "Abketa: 1\n",
      "Metke: 29\n",
      "Nenewe: Yekatit 3\n",
      "Hudade: Yekatit 17\n",
      "Debrezeit: Megabit 14\n",
      "Hosana: Miyazia 5\n",
      "Seklet: Miyazia 10\n",
      "Tensae: Miyazia 12\n",
      "Rekeb Kanat: Ginbot 6\n",
      "Erget: Ginbot 21\n",
      "Piraklitos: Sene 1\n",
      "Hawaryat: Sene 2\n",
      "Abiy Kemer: 15 (Passed: 69, Remaining: 463)\n",
      "Awde Mahtot: 99 (Passed: 69, Remaining: 7)\n",
      "Awde Tsehay: 269 (Passed: 13, Remaining: 15)\n"
     ]
    }
   ],
   "source": [
    "print(bh)"
   ]
  },
  {
   "cell_type": "code",
   "execution_count": 3,
   "metadata": {},
   "outputs": [
    {
     "name": "stdout",
     "output_type": "stream",
     "text": [
      "The Ethiopian date for 2021-09-10 is 2013-13-05\n"
     ]
    }
   ],
   "source": [
    "gregorian_year = 2021\n",
    "gregorian_month = 9\n",
    "gregorian_day = 10\n",
    "ethiopian_year, ethiopian_month, ethiopian_day = bh.gregorian_to_ethiopian(gregorian_year, gregorian_month, gregorian_day)\n",
    "print(f\"The Ethiopian date for {gregorian_year}-{gregorian_month:02d}-{gregorian_day:02d} is {ethiopian_year}-{ethiopian_month:02d}-{ethiopian_day:02d}\")"
   ]
  },
  {
   "cell_type": "code",
   "execution_count": 14,
   "metadata": {},
   "outputs": [
    {
     "name": "stdout",
     "output_type": "stream",
     "text": [
      "The Gregorian date for 2017-10-02 is 2025-06-09\n"
     ]
    }
   ],
   "source": [
    "ethiopian_year = 2017\n",
    "ethiopian_month = 10\n",
    "ethiopian_day = 2\n",
    "\n",
    "\n",
    "gregorian_year, gregorian_month, gregorian_day = bh.ethiopian_to_gregorian(ethiopian_year, ethiopian_month, ethiopian_day)\n",
    "print(f\"The Gregorian date for {ethiopian_year}-{ethiopian_month:02d}-{ethiopian_day:02d} is {gregorian_year}-{gregorian_month:02d}-{gregorian_day:02d}\")"
   ]
  },
  {
   "cell_type": "code",
   "execution_count": 15,
   "metadata": {},
   "outputs": [
    {
     "name": "stdout",
     "output_type": "stream",
     "text": [
      "The Gregorian date for 2017-11-05 is 2025-07-12\n"
     ]
    }
   ],
   "source": [
    "ethiopian_year = 2017\n",
    "ethiopian_month = 11\n",
    "ethiopian_day = 5\n",
    "\n",
    "\n",
    "gregorian_year, gregorian_month, gregorian_day = bh.ethiopian_to_gregorian(ethiopian_year, ethiopian_month, ethiopian_day)\n",
    "print(f\"The Gregorian date for {ethiopian_year}-{ethiopian_month:02d}-{ethiopian_day:02d} is {gregorian_year}-{gregorian_month:02d}-{gregorian_day:02d}\")"
   ]
  },
  {
   "cell_type": "code",
   "execution_count": 4,
   "metadata": {},
   "outputs": [
    {
     "data": {
      "text/plain": [
       "'Yekatit 17'"
      ]
     },
     "execution_count": 4,
     "metadata": {},
     "output_type": "execute_result"
    }
   ],
   "source": [
    "bh.get_event_date(\"hudade\")"
   ]
  },
  {
   "cell_type": "code",
   "execution_count": 5,
   "metadata": {},
   "outputs": [
    {
     "name": "stdout",
     "output_type": "stream",
     "text": [
      "We are in the 15th Abiy kemer \n",
      " \n",
      "              have gone through 69 years \n",
      "\n",
      "              and have 463 years left\n"
     ]
    },
    {
     "data": {
      "text/plain": [
       "(15, 69, 463)"
      ]
     },
     "execution_count": 5,
     "metadata": {},
     "output_type": "execute_result"
    }
   ],
   "source": [
    "bh.get_awde_kemer()"
   ]
  },
  {
   "cell_type": "code",
   "execution_count": 6,
   "metadata": {},
   "outputs": [
    {
     "name": "stdout",
     "output_type": "stream",
     "text": [
      "We are in the 99th Awde Mahtot \n",
      " \n",
      "              have gone through 69 years \n",
      "\n",
      "              and have 7 years left\n"
     ]
    },
    {
     "data": {
      "text/plain": [
       "(99, 69, 7)"
      ]
     },
     "execution_count": 6,
     "metadata": {},
     "output_type": "execute_result"
    }
   ],
   "source": [
    "bh.get_awde_mahtot()"
   ]
  },
  {
   "cell_type": "code",
   "execution_count": 8,
   "metadata": {},
   "outputs": [
    {
     "name": "stdout",
     "output_type": "stream",
     "text": [
      "We are in the 267th Awde Mahtot \n",
      " \n",
      "              have gone through 16 years \n",
      "\n",
      "              and have 12 years left\n"
     ]
    },
    {
     "data": {
      "text/plain": [
       "(267, 16, 12)"
      ]
     },
     "execution_count": 8,
     "metadata": {},
     "output_type": "execute_result"
    }
   ],
   "source": [
    "bh.get_awde_tsehay()"
   ]
  },
  {
   "cell_type": "code",
   "execution_count": 9,
   "metadata": {},
   "outputs": [
    {
     "name": "stdout",
     "output_type": "stream",
     "text": [
      "We are in the 15th Abiy kemer \n",
      " \n",
      "              have gone through 16 years \n",
      "\n",
      "              and have 516 years left\n"
     ]
    },
    {
     "data": {
      "text/plain": [
       "(15, 16, 516)"
      ]
     },
     "execution_count": 9,
     "metadata": {},
     "output_type": "execute_result"
    }
   ],
   "source": [
    "bh.get_awde_kemer()"
   ]
  },
  {
   "cell_type": "code",
   "execution_count": 10,
   "metadata": {},
   "outputs": [
    {
     "data": {
      "text/plain": [
       "7464"
      ]
     },
     "execution_count": 10,
     "metadata": {},
     "output_type": "execute_result"
    }
   ],
   "source": [
    "bh.get_total_years()"
   ]
  },
  {
   "cell_type": "code",
   "execution_count": 11,
   "metadata": {},
   "outputs": [
    {
     "data": {
      "text/plain": [
       "15"
      ]
     },
     "execution_count": 11,
     "metadata": {},
     "output_type": "execute_result"
    }
   ],
   "source": [
    "bh.get_wember()"
   ]
  },
  {
   "cell_type": "code",
   "execution_count": 12,
   "metadata": {},
   "outputs": [
    {
     "data": {
      "text/plain": [
       "15"
      ]
     },
     "execution_count": 12,
     "metadata": {},
     "output_type": "execute_result"
    }
   ],
   "source": [
    "bh.get_abketa()"
   ]
  },
  {
   "cell_type": "code",
   "execution_count": 13,
   "metadata": {},
   "outputs": [
    {
     "data": {
      "text/plain": [
       "15"
      ]
     },
     "execution_count": 13,
     "metadata": {},
     "output_type": "execute_result"
    }
   ],
   "source": [
    "bh.get_metke()"
   ]
  },
  {
   "cell_type": "code",
   "execution_count": 14,
   "metadata": {},
   "outputs": [
    {
     "data": {
      "text/plain": [
       "'Sunday'"
      ]
     },
     "execution_count": 14,
     "metadata": {},
     "output_type": "execute_result"
    }
   ],
   "source": [
    "bh.get_first_day_of_year()"
   ]
  },
  {
   "cell_type": "code",
   "execution_count": 7,
   "metadata": {},
   "outputs": [
    {
     "data": {
      "text/plain": [
       "'Nenewe Starts at Yekatit 3'"
      ]
     },
     "execution_count": 7,
     "metadata": {},
     "output_type": "execute_result"
    }
   ],
   "source": [
    "bh.get_nenewe()"
   ]
  },
  {
   "cell_type": "code",
   "execution_count": 16,
   "metadata": {},
   "outputs": [
    {
     "data": {
      "text/plain": [
       "'Yekatit 6'"
      ]
     },
     "execution_count": 16,
     "metadata": {},
     "output_type": "execute_result"
    }
   ],
   "source": [
    "bh.get_hudade()"
   ]
  },
  {
   "cell_type": "code",
   "execution_count": 17,
   "metadata": {},
   "outputs": [
    {
     "data": {
      "text/plain": [
       "'Megabit 3'"
      ]
     },
     "execution_count": 17,
     "metadata": {},
     "output_type": "execute_result"
    }
   ],
   "source": [
    "bh.get_debrezeit()"
   ]
  },
  {
   "cell_type": "code",
   "execution_count": 18,
   "metadata": {},
   "outputs": [
    {
     "data": {
      "text/plain": [
       "'Megabit 24'"
      ]
     },
     "execution_count": 18,
     "metadata": {},
     "output_type": "execute_result"
    }
   ],
   "source": [
    "bh.get_hosana()"
   ]
  },
  {
   "cell_type": "code",
   "execution_count": 19,
   "metadata": {},
   "outputs": [
    {
     "data": {
      "text/plain": [
       "'Megabit 29'"
      ]
     },
     "execution_count": 19,
     "metadata": {},
     "output_type": "execute_result"
    }
   ],
   "source": [
    "bh.get_seklet()"
   ]
  },
  {
   "cell_type": "code",
   "execution_count": 8,
   "metadata": {},
   "outputs": [
    {
     "data": {
      "text/plain": [
       "'Miyazia 12'"
      ]
     },
     "execution_count": 8,
     "metadata": {},
     "output_type": "execute_result"
    }
   ],
   "source": [
    "bh.get_tensae()"
   ]
  },
  {
   "cell_type": "code",
   "execution_count": 9,
   "metadata": {},
   "outputs": [
    {
     "data": {
      "text/plain": [
       "'Ginbot 6'"
      ]
     },
     "execution_count": 9,
     "metadata": {},
     "output_type": "execute_result"
    }
   ],
   "source": [
    "bh.get_rekeb_kanat()"
   ]
  },
  {
   "cell_type": "code",
   "execution_count": 10,
   "metadata": {},
   "outputs": [
    {
     "data": {
      "text/plain": [
       "'Ginbot 21'"
      ]
     },
     "execution_count": 10,
     "metadata": {},
     "output_type": "execute_result"
    }
   ],
   "source": [
    "bh.get_erget()"
   ]
  },
  {
   "cell_type": "code",
   "execution_count": 11,
   "metadata": {},
   "outputs": [
    {
     "data": {
      "text/plain": [
       "'Sene 1'"
      ]
     },
     "execution_count": 11,
     "metadata": {},
     "output_type": "execute_result"
    }
   ],
   "source": [
    "bh.get_piraklitos()"
   ]
  },
  {
   "cell_type": "code",
   "execution_count": 12,
   "metadata": {},
   "outputs": [
    {
     "data": {
      "text/plain": [
       "'Sene 2'"
      ]
     },
     "execution_count": 12,
     "metadata": {},
     "output_type": "execute_result"
    }
   ],
   "source": [
    "bh.get_hawaryat()"
   ]
  },
  {
   "cell_type": "code",
   "execution_count": 13,
   "metadata": {},
   "outputs": [
    {
     "data": {
      "text/plain": [
       "'Sene 4'"
      ]
     },
     "execution_count": 13,
     "metadata": {},
     "output_type": "execute_result"
    }
   ],
   "source": [
    "bh.get_dehenet()"
   ]
  },
  {
   "cell_type": "code",
   "execution_count": null,
   "metadata": {},
   "outputs": [],
   "source": []
  },
  {
   "cell_type": "code",
   "execution_count": null,
   "metadata": {},
   "outputs": [],
   "source": []
  }
 ],
 "metadata": {
  "kernelspec": {
   "display_name": ".venv",
   "language": "python",
   "name": "python3"
  },
  "language_info": {
   "codemirror_mode": {
    "name": "ipython",
    "version": 3
   },
   "file_extension": ".py",
   "mimetype": "text/x-python",
   "name": "python",
   "nbconvert_exporter": "python",
   "pygments_lexer": "ipython3",
   "version": "3.7.6"
  }
 },
 "nbformat": 4,
 "nbformat_minor": 2
}
